{
 "cells": [
  {
   "cell_type": "code",
   "execution_count": 36,
   "id": "5c377605",
   "metadata": {},
   "outputs": [],
   "source": [
    "import requests\n",
    "from bs4 import BeautifulSoup\n",
    "import csv\n",
    "import flickrapi\n",
    "import urllib\n",
    "import os\n",
    "import pandas as pd\n",
    "from urllib.parse import urlparse\n",
    "import re\n",
    "import time\n",
    "import urllib.request\n",
    "import os"
   ]
  },
  {
   "cell_type": "code",
   "execution_count": 2,
   "id": "909b9636",
   "metadata": {},
   "outputs": [],
   "source": [
    "api_key = '32904a120f4259ca8f4477dcb34bcfa7'\n",
    "api_secret = '67c4ca1d1c696fde'"
   ]
  },
  {
   "cell_type": "code",
   "execution_count": 41,
   "id": "c07a6acd",
   "metadata": {},
   "outputs": [],
   "source": [
    "username = '198521387@N03'  "
   ]
  },
  {
   "cell_type": "code",
   "execution_count": null,
   "id": "4f7f37cd",
   "metadata": {},
   "outputs": [],
   "source": [
    "url = 'https://www.flickr.com/photos/fractracker/albums/with/72157715916543893'  "
   ]
  },
  {
   "cell_type": "code",
   "execution_count": 3,
   "id": "fc174eb4",
   "metadata": {},
   "outputs": [],
   "source": [
    "username2 = 'FracTracker_Alliance'  "
   ]
  },
  {
   "cell_type": "markdown",
   "id": "f896ea52",
   "metadata": {},
   "source": [
    "# How many unique images does FTA have?"
   ]
  },
  {
   "cell_type": "code",
   "execution_count": 68,
   "id": "6ec40b0f",
   "metadata": {},
   "outputs": [
    {
     "name": "stdout",
     "output_type": "stream",
     "text": [
      "The FracTracker_Alliance account has 2668 unique images across all photo albums.\n"
     ]
    }
   ],
   "source": [
    "unique_photo_ids = set()\n",
    "\n",
    "#get the list of Fracktracker's albums\n",
    "photosets = flickr.photosets.getList(user_id=user_id)\n",
    "\n",
    "#scrape images from photosets and collect unique photo IDs\n",
    "for photoset in photosets['photosets']['photoset']:\n",
    "    photoset_id = photoset['id']\n",
    "\n",
    "    #make list of photos in the photoset\n",
    "    photos = flickr.photosets.getPhotos(photoset_id=photoset_id)\n",
    "\n",
    "    #find unique photo IDs\n",
    "    for photo in photos['photoset']['photo']:\n",
    "        photo_id = photo['id']\n",
    "        unique_photo_ids.add(photo_id)\n",
    "\n",
    "#scrape images from individual uploads and collect unique photo IDs\n",
    "individual_photos = flickr.people.getPhotos(user_id=user_id, per_page=500)\n",
    "\n",
    "for photo in individual_photos['photos']['photo']:\n",
    "    photo_id = photo['id']\n",
    "    unique_photo_ids.add(photo_id)\n",
    "\n",
    "total_unique_images = len(unique_photo_ids)\n",
    "\n",
    "print(f\"The FracTracker_Alliance account has {total_unique_images} unique images across all photo albums.\")"
   ]
  },
  {
   "cell_type": "markdown",
   "id": "a91176db",
   "metadata": {},
   "source": [
    "# Scrape Into Attribute Table"
   ]
  },
  {
   "cell_type": "code",
   "execution_count": 29,
   "id": "35169e36",
   "metadata": {},
   "outputs": [],
   "source": [
    "flickr = flickrapi.FlickrAPI(api_key, api_secret, format='parsed-json')\n",
    "attributes = []\n",
    "\n",
    "page = 1\n",
    "per_page = 500\n",
    "total_pages = 1\n",
    "\n",
    "user_info = flickr.people.findByUsername(username=username2)\n",
    "user_id = user_info['user']['id']\n",
    "\n",
    "# Define the URL for the album\n",
    "url = 'https://www.flickr.com/photos/fractracker/albums/with/72157715916543893'\n",
    "\n",
    "# Extract the album ID from the URL\n",
    "album_id_match = re.search(r'/albums/with/(\\d+)', url)\n",
    "if album_id_match:\n",
    "    target_album_id = album_id_match.group(1)\n",
    "    albums = flickr.photosets.getList(user_id=user_id, per_page=per_page)\n",
    "    for album in albums['photosets']['photoset']:\n",
    "        album_id = album['id']\n",
    "        if album_id == target_album_id:\n",
    "            album_title = album['title']['_content']\n",
    "            break\n",
    "    else:\n",
    "        print(\"Album not found.\")\n",
    "        album_title = \"\"\n",
    "\n",
    "    # Loop through the pages and retrieve the attributes\n",
    "    while page <= total_pages:\n",
    "        photos = flickr.photosets.getPhotos(photoset_id=album_id, per_page=per_page, page=page)\n",
    "\n",
    "        # Create photo_info dictionary\n",
    "        for photo in photos['photoset']['photo']:\n",
    "            photo_id = photo['id']\n",
    "            photo_info = flickr.photos.getInfo(photo_id=photo_id)['photo']\n",
    "\n",
    "            # Extract basic attributes\n",
    "            title = photo_info['title']['_content']\n",
    "            description = photo_info['description']['_content']\n",
    "            url = f\"https://www.flickr.com/photos/fractracker/{photo_id}/in/album-{album_id}\"\n",
    "\n",
    "            # Extract latitude and longitude if available\n",
    "            latitude = None\n",
    "            longitude = None\n",
    "            if 'location' in photo_info:\n",
    "                location_info = photo_info['location']\n",
    "                if 'latitude' in location_info and 'longitude' in location_info:\n",
    "                    latitude = location_info['latitude']\n",
    "                    longitude = location_info['longitude']\n",
    "\n",
    "            attributes.append({\n",
    "                'PhotoID': photo_id,\n",
    "                'Title': title,\n",
    "                'Description': description,\n",
    "                'URL': url,\n",
    "                'Latitude': latitude,\n",
    "                'Longitude': longitude,\n",
    "                'AlbumID': album_id,\n",
    "                'AlbumTitle': album_title\n",
    "            })\n",
    "\n",
    "        page += 1\n",
    "        total_pages = int(photos['photoset']['pages'])\n",
    "\n",
    "    df = pd.DataFrame(attributes)\n",
    "    df.to_csv('flickr_attributes7.csv', index=False)"
   ]
  },
  {
   "cell_type": "code",
   "execution_count": 30,
   "id": "dfa03612",
   "metadata": {},
   "outputs": [
    {
     "data": {
      "text/html": [
       "<div>\n",
       "<style scoped>\n",
       "    .dataframe tbody tr th:only-of-type {\n",
       "        vertical-align: middle;\n",
       "    }\n",
       "\n",
       "    .dataframe tbody tr th {\n",
       "        vertical-align: top;\n",
       "    }\n",
       "\n",
       "    .dataframe thead th {\n",
       "        text-align: right;\n",
       "    }\n",
       "</style>\n",
       "<table border=\"1\" class=\"dataframe\">\n",
       "  <thead>\n",
       "    <tr style=\"text-align: right;\">\n",
       "      <th></th>\n",
       "      <th>PhotoID</th>\n",
       "      <th>Title</th>\n",
       "      <th>Description</th>\n",
       "      <th>URL</th>\n",
       "      <th>Latitude</th>\n",
       "      <th>Longitude</th>\n",
       "      <th>AlbumID</th>\n",
       "      <th>AlbumTitle</th>\n",
       "    </tr>\n",
       "  </thead>\n",
       "  <tbody>\n",
       "    <tr>\n",
       "      <th>0</th>\n",
       "      <td>51604730510</td>\n",
       "      <td>TAuch_Infrastructure-Rover_Pipeline_Repair-Ene...</td>\n",
       "      <td>Photo citation: Ted Auch, FracTracker Alliance...</td>\n",
       "      <td>https://www.flickr.com/photos/fractracker/5160...</td>\n",
       "      <td>39.868655</td>\n",
       "      <td>-80.833423</td>\n",
       "      <td>72157715916543893</td>\n",
       "      <td>Appalachian Buildout</td>\n",
       "    </tr>\n",
       "    <tr>\n",
       "      <th>1</th>\n",
       "      <td>51604505439</td>\n",
       "      <td>TAuch_Infrastructure-Rover_Pipeline_Repair-Ene...</td>\n",
       "      <td>Photo citation: Ted Auch, FracTracker Alliance...</td>\n",
       "      <td>https://www.flickr.com/photos/fractracker/5160...</td>\n",
       "      <td>39.868177</td>\n",
       "      <td>-80.832106</td>\n",
       "      <td>72157715916543893</td>\n",
       "      <td>Appalachian Buildout</td>\n",
       "    </tr>\n",
       "    <tr>\n",
       "      <th>2</th>\n",
       "      <td>51603848491</td>\n",
       "      <td>TAuch_Infrastructure-Rover_Pipeline_Repair-Ene...</td>\n",
       "      <td>Photo citation: Ted Auch, FracTracker Alliance...</td>\n",
       "      <td>https://www.flickr.com/photos/fractracker/5160...</td>\n",
       "      <td>39.868111</td>\n",
       "      <td>-80.832081</td>\n",
       "      <td>72157715916543893</td>\n",
       "      <td>Appalachian Buildout</td>\n",
       "    </tr>\n",
       "    <tr>\n",
       "      <th>3</th>\n",
       "      <td>51603848526</td>\n",
       "      <td>TAuch_Infrastructure-Rover_Pipeline_Repair-Ene...</td>\n",
       "      <td>Photo citation: Ted Auch, FracTracker Alliance...</td>\n",
       "      <td>https://www.flickr.com/photos/fractracker/5160...</td>\n",
       "      <td>39.868288</td>\n",
       "      <td>-80.830231</td>\n",
       "      <td>72157715916543893</td>\n",
       "      <td>Appalachian Buildout</td>\n",
       "    </tr>\n",
       "    <tr>\n",
       "      <th>4</th>\n",
       "      <td>51604730665</td>\n",
       "      <td>TAuch_Infrastructure-Rover_Pipeline_Repair-Ene...</td>\n",
       "      <td>Photo citation: Ted Auch, FracTracker Alliance...</td>\n",
       "      <td>https://www.flickr.com/photos/fractracker/5160...</td>\n",
       "      <td>39.864536</td>\n",
       "      <td>-80.832995</td>\n",
       "      <td>72157715916543893</td>\n",
       "      <td>Appalachian Buildout</td>\n",
       "    </tr>\n",
       "  </tbody>\n",
       "</table>\n",
       "</div>"
      ],
      "text/plain": [
       "       PhotoID                                              Title  \\\n",
       "0  51604730510  TAuch_Infrastructure-Rover_Pipeline_Repair-Ene...   \n",
       "1  51604505439  TAuch_Infrastructure-Rover_Pipeline_Repair-Ene...   \n",
       "2  51603848491  TAuch_Infrastructure-Rover_Pipeline_Repair-Ene...   \n",
       "3  51603848526  TAuch_Infrastructure-Rover_Pipeline_Repair-Ene...   \n",
       "4  51604730665  TAuch_Infrastructure-Rover_Pipeline_Repair-Ene...   \n",
       "\n",
       "                                         Description  \\\n",
       "0  Photo citation: Ted Auch, FracTracker Alliance...   \n",
       "1  Photo citation: Ted Auch, FracTracker Alliance...   \n",
       "2  Photo citation: Ted Auch, FracTracker Alliance...   \n",
       "3  Photo citation: Ted Auch, FracTracker Alliance...   \n",
       "4  Photo citation: Ted Auch, FracTracker Alliance...   \n",
       "\n",
       "                                                 URL   Latitude  Longitude  \\\n",
       "0  https://www.flickr.com/photos/fractracker/5160...  39.868655 -80.833423   \n",
       "1  https://www.flickr.com/photos/fractracker/5160...  39.868177 -80.832106   \n",
       "2  https://www.flickr.com/photos/fractracker/5160...  39.868111 -80.832081   \n",
       "3  https://www.flickr.com/photos/fractracker/5160...  39.868288 -80.830231   \n",
       "4  https://www.flickr.com/photos/fractracker/5160...  39.864536 -80.832995   \n",
       "\n",
       "             AlbumID            AlbumTitle  \n",
       "0  72157715916543893  Appalachian Buildout  \n",
       "1  72157715916543893  Appalachian Buildout  \n",
       "2  72157715916543893  Appalachian Buildout  \n",
       "3  72157715916543893  Appalachian Buildout  \n",
       "4  72157715916543893  Appalachian Buildout  "
      ]
     },
     "execution_count": 30,
     "metadata": {},
     "output_type": "execute_result"
    }
   ],
   "source": [
    "fa6 = pd.read_csv('flickr_attributes7.csv')\n",
    "fa6.head()"
   ]
  },
  {
   "cell_type": "code",
   "execution_count": 31,
   "id": "1d35493d",
   "metadata": {},
   "outputs": [
    {
     "data": {
      "text/plain": [
       "(1076, 8)"
      ]
     },
     "execution_count": 31,
     "metadata": {},
     "output_type": "execute_result"
    }
   ],
   "source": [
    "fa6.shape"
   ]
  },
  {
   "cell_type": "code",
   "execution_count": 32,
   "id": "c35fac22",
   "metadata": {},
   "outputs": [
    {
     "data": {
      "text/plain": [
       "Appalachian Buildout    1076\n",
       "Name: AlbumTitle, dtype: int64"
      ]
     },
     "execution_count": 32,
     "metadata": {},
     "output_type": "execute_result"
    }
   ],
   "source": [
    "fa6['AlbumTitle'].value_counts()"
   ]
  },
  {
   "cell_type": "code",
   "execution_count": 33,
   "id": "e2537bd2",
   "metadata": {},
   "outputs": [
    {
     "data": {
      "text/plain": [
       "https://www.flickr.com/photos/fractracker/51604730510/in/album-72157715916543893    1\n",
       "https://www.flickr.com/photos/fractracker/49834845891/in/album-72157715916543893    1\n",
       "https://www.flickr.com/photos/fractracker/49810961976/in/album-72157715916543893    1\n",
       "https://www.flickr.com/photos/fractracker/49810411393/in/album-72157715916543893    1\n",
       "https://www.flickr.com/photos/fractracker/49810961601/in/album-72157715916543893    1\n",
       "                                                                                   ..\n",
       "https://www.flickr.com/photos/fractracker/51028710633/in/album-72157715916543893    1\n",
       "https://www.flickr.com/photos/fractracker/50724126976/in/album-72157715916543893    1\n",
       "https://www.flickr.com/photos/fractracker/50723392763/in/album-72157715916543893    1\n",
       "https://www.flickr.com/photos/fractracker/50723392733/in/album-72157715916543893    1\n",
       "https://www.flickr.com/photos/fractracker/52753719038/in/album-72157715916543893    1\n",
       "Name: URL, Length: 1076, dtype: int64"
      ]
     },
     "execution_count": 33,
     "metadata": {},
     "output_type": "execute_result"
    }
   ],
   "source": [
    "fa6.URL.value_counts()"
   ]
  },
  {
   "cell_type": "markdown",
   "id": "8c0f057d",
   "metadata": {},
   "source": [
    "# Scrape from all albums"
   ]
  },
  {
   "cell_type": "code",
   "execution_count": 41,
   "id": "8984b21c",
   "metadata": {
    "scrolled": true
   },
   "outputs": [],
   "source": [
    "flickr = flickrapi.FlickrAPI(api_key, api_secret, format='parsed-json')\n",
    "attributes = []\n",
    "\n",
    "user_info = flickr.people.findByUsername(username=username2)\n",
    "user_id = user_info['user']['id']\n",
    "\n",
    "# Retrieve the list of albums for the user\n",
    "albums = flickr.photosets.getList(user_id=user_id, per_page=per_page)\n",
    "\n",
    "# Loop through the albums and extract the attributes\n",
    "for album in albums['photosets']['photoset']:\n",
    "    album_id = album['id']\n",
    "    album_title = album['title']['_content']\n",
    "\n",
    "    # Loop through the pages and retrieve the attributes for each album\n",
    "    page = 1\n",
    "    total_pages = 1\n",
    "    while page <= total_pages:\n",
    "        photos = flickr.photosets.getPhotos(photoset_id=album_id, per_page=per_page, page=page)\n",
    "\n",
    "        # Create photo_info dictionary\n",
    "        for photo in photos['photoset']['photo']:\n",
    "            photo_id = photo['id']\n",
    "            photo_info = flickr.photos.getInfo(photo_id=photo_id)['photo']\n",
    "\n",
    "            # Extract basic attributes\n",
    "            title = photo_info['title']['_content']\n",
    "            description = photo_info['description']['_content']\n",
    "            url = f\"https://www.flickr.com/photos/fractracker/{photo_id}/in/album-{album_id}\"\n",
    "\n",
    "            # Extract latitude and longitude if available\n",
    "            latitude = None\n",
    "            longitude = None\n",
    "            if 'location' in photo_info:\n",
    "                location_info = photo_info['location']\n",
    "                if 'latitude' in location_info and 'longitude' in location_info:\n",
    "                    latitude = location_info['latitude']\n",
    "                    longitude = location_info['longitude']\n",
    "\n",
    "            attributes.append({\n",
    "                'PhotoID': photo_id,\n",
    "                'Title': title,\n",
    "                'Description': description,\n",
    "                'URL': url,\n",
    "                'Latitude': latitude,\n",
    "                'Longitude': longitude,\n",
    "                'AlbumID': album_id,\n",
    "                'AlbumTitle': album_title\n",
    "            })\n",
    "\n",
    "        page += 1\n",
    "        total_pages = int(photos['photoset']['pages'])\n",
    "\n",
    "df = pd.DataFrame(attributes)\n",
    "df.to_csv('flickr_attributes_all.csv', index=False)"
   ]
  },
  {
   "cell_type": "code",
   "execution_count": 42,
   "id": "ce28df38",
   "metadata": {},
   "outputs": [
    {
     "data": {
      "text/html": [
       "<div>\n",
       "<style scoped>\n",
       "    .dataframe tbody tr th:only-of-type {\n",
       "        vertical-align: middle;\n",
       "    }\n",
       "\n",
       "    .dataframe tbody tr th {\n",
       "        vertical-align: top;\n",
       "    }\n",
       "\n",
       "    .dataframe thead th {\n",
       "        text-align: right;\n",
       "    }\n",
       "</style>\n",
       "<table border=\"1\" class=\"dataframe\">\n",
       "  <thead>\n",
       "    <tr style=\"text-align: right;\">\n",
       "      <th></th>\n",
       "      <th>PhotoID</th>\n",
       "      <th>Title</th>\n",
       "      <th>Description</th>\n",
       "      <th>URL</th>\n",
       "      <th>Latitude</th>\n",
       "      <th>Longitude</th>\n",
       "      <th>AlbumID</th>\n",
       "      <th>AlbumTitle</th>\n",
       "    </tr>\n",
       "  </thead>\n",
       "  <tbody>\n",
       "    <tr>\n",
       "      <th>0</th>\n",
       "      <td>51604730510</td>\n",
       "      <td>TAuch_Infrastructure-Rover_Pipeline_Repair-Ene...</td>\n",
       "      <td>Photo citation: Ted Auch, FracTracker Alliance...</td>\n",
       "      <td>https://www.flickr.com/photos/fractracker/5160...</td>\n",
       "      <td>39.868655</td>\n",
       "      <td>-80.833423</td>\n",
       "      <td>72157715916543893</td>\n",
       "      <td>Appalachian Buildout</td>\n",
       "    </tr>\n",
       "    <tr>\n",
       "      <th>1</th>\n",
       "      <td>51604505439</td>\n",
       "      <td>TAuch_Infrastructure-Rover_Pipeline_Repair-Ene...</td>\n",
       "      <td>Photo citation: Ted Auch, FracTracker Alliance...</td>\n",
       "      <td>https://www.flickr.com/photos/fractracker/5160...</td>\n",
       "      <td>39.868177</td>\n",
       "      <td>-80.832106</td>\n",
       "      <td>72157715916543893</td>\n",
       "      <td>Appalachian Buildout</td>\n",
       "    </tr>\n",
       "    <tr>\n",
       "      <th>2</th>\n",
       "      <td>51603848491</td>\n",
       "      <td>TAuch_Infrastructure-Rover_Pipeline_Repair-Ene...</td>\n",
       "      <td>Photo citation: Ted Auch, FracTracker Alliance...</td>\n",
       "      <td>https://www.flickr.com/photos/fractracker/5160...</td>\n",
       "      <td>39.868111</td>\n",
       "      <td>-80.832081</td>\n",
       "      <td>72157715916543893</td>\n",
       "      <td>Appalachian Buildout</td>\n",
       "    </tr>\n",
       "    <tr>\n",
       "      <th>3</th>\n",
       "      <td>51603848526</td>\n",
       "      <td>TAuch_Infrastructure-Rover_Pipeline_Repair-Ene...</td>\n",
       "      <td>Photo citation: Ted Auch, FracTracker Alliance...</td>\n",
       "      <td>https://www.flickr.com/photos/fractracker/5160...</td>\n",
       "      <td>39.868288</td>\n",
       "      <td>-80.830231</td>\n",
       "      <td>72157715916543893</td>\n",
       "      <td>Appalachian Buildout</td>\n",
       "    </tr>\n",
       "    <tr>\n",
       "      <th>4</th>\n",
       "      <td>51604730665</td>\n",
       "      <td>TAuch_Infrastructure-Rover_Pipeline_Repair-Ene...</td>\n",
       "      <td>Photo citation: Ted Auch, FracTracker Alliance...</td>\n",
       "      <td>https://www.flickr.com/photos/fractracker/5160...</td>\n",
       "      <td>39.864536</td>\n",
       "      <td>-80.832995</td>\n",
       "      <td>72157715916543893</td>\n",
       "      <td>Appalachian Buildout</td>\n",
       "    </tr>\n",
       "  </tbody>\n",
       "</table>\n",
       "</div>"
      ],
      "text/plain": [
       "       PhotoID                                              Title  \\\n",
       "0  51604730510  TAuch_Infrastructure-Rover_Pipeline_Repair-Ene...   \n",
       "1  51604505439  TAuch_Infrastructure-Rover_Pipeline_Repair-Ene...   \n",
       "2  51603848491  TAuch_Infrastructure-Rover_Pipeline_Repair-Ene...   \n",
       "3  51603848526  TAuch_Infrastructure-Rover_Pipeline_Repair-Ene...   \n",
       "4  51604730665  TAuch_Infrastructure-Rover_Pipeline_Repair-Ene...   \n",
       "\n",
       "                                         Description  \\\n",
       "0  Photo citation: Ted Auch, FracTracker Alliance...   \n",
       "1  Photo citation: Ted Auch, FracTracker Alliance...   \n",
       "2  Photo citation: Ted Auch, FracTracker Alliance...   \n",
       "3  Photo citation: Ted Auch, FracTracker Alliance...   \n",
       "4  Photo citation: Ted Auch, FracTracker Alliance...   \n",
       "\n",
       "                                                 URL   Latitude  Longitude  \\\n",
       "0  https://www.flickr.com/photos/fractracker/5160...  39.868655 -80.833423   \n",
       "1  https://www.flickr.com/photos/fractracker/5160...  39.868177 -80.832106   \n",
       "2  https://www.flickr.com/photos/fractracker/5160...  39.868111 -80.832081   \n",
       "3  https://www.flickr.com/photos/fractracker/5160...  39.868288 -80.830231   \n",
       "4  https://www.flickr.com/photos/fractracker/5160...  39.864536 -80.832995   \n",
       "\n",
       "             AlbumID            AlbumTitle  \n",
       "0  72157715916543893  Appalachian Buildout  \n",
       "1  72157715916543893  Appalachian Buildout  \n",
       "2  72157715916543893  Appalachian Buildout  \n",
       "3  72157715916543893  Appalachian Buildout  \n",
       "4  72157715916543893  Appalachian Buildout  "
      ]
     },
     "execution_count": 42,
     "metadata": {},
     "output_type": "execute_result"
    }
   ],
   "source": [
    "faa = pd.read_csv('flickr_attributes_all.csv')\n",
    "faa.head()"
   ]
  },
  {
   "cell_type": "code",
   "execution_count": 43,
   "id": "e22acd64",
   "metadata": {},
   "outputs": [
    {
     "data": {
      "text/plain": [
       "(14050, 8)"
      ]
     },
     "execution_count": 43,
     "metadata": {},
     "output_type": "execute_result"
    }
   ],
   "source": [
    "faa.shape"
   ]
  },
  {
   "cell_type": "code",
   "execution_count": 44,
   "id": "e59e2103",
   "metadata": {},
   "outputs": [
    {
     "data": {
      "text/plain": [
       "https://www.flickr.com/photos/fractracker/51604730510/in/album-72157715916543893    1\n",
       "https://www.flickr.com/photos/fractracker/51119564634/in/album-72157713805048161    1\n",
       "https://www.flickr.com/photos/fractracker/51141169244/in/album-72157713805048161    1\n",
       "https://www.flickr.com/photos/fractracker/51141497630/in/album-72157713805048161    1\n",
       "https://www.flickr.com/photos/fractracker/51141497715/in/album-72157713805048161    1\n",
       "                                                                                   ..\n",
       "https://www.flickr.com/photos/fractracker/49883783323/in/album-72157713728924116    1\n",
       "https://www.flickr.com/photos/fractracker/49883783188/in/album-72157713728924116    1\n",
       "https://www.flickr.com/photos/fractracker/49884307016/in/album-72157713728924116    1\n",
       "https://www.flickr.com/photos/fractracker/49883782928/in/album-72157713728924116    1\n",
       "https://www.flickr.com/photos/fractracker/50199989396/in/album-72157716857731186    1\n",
       "Name: URL, Length: 14050, dtype: int64"
      ]
     },
     "execution_count": 44,
     "metadata": {},
     "output_type": "execute_result"
    }
   ],
   "source": [
    "faa.URL.value_counts()"
   ]
  },
  {
   "cell_type": "code",
   "execution_count": 45,
   "id": "49bfb885",
   "metadata": {},
   "outputs": [
    {
     "data": {
      "text/plain": [
       "Appalachian Buildout                                      1076\n",
       "Pollution, Toxins, & Disposal Concerns                    1018\n",
       "Ohio                                                       754\n",
       "Methane & Air and Water Quality Concerns                   647\n",
       "Pennsylvania                                               629\n",
       "Drilling & Fracking                                        612\n",
       "Waste & Wastewater                                         553\n",
       "Frac Sand Mining                                           441\n",
       "Refineries & Processing                                    403\n",
       "Michigan                                                   393\n",
       "Construction                                               389\n",
       "Plastics & Petrochemicals                                  370\n",
       "Freshwater Ecosystems                                      367\n",
       "Frac Sand Storage & Processing                             362\n",
       "Pipelines                                                  348\n",
       "Wisconsin                                                  347\n",
       "Storage                                                    341\n",
       "Communities                                                308\n",
       "Transportation                                             299\n",
       "Impoundment Ponds                                          254\n",
       "Channels of Life: the Gulf Coast Buildout in TX            253\n",
       "Texas                                                      253\n",
       "Culture & Livelihoods                                      249\n",
       "Compressor Stations                                        232\n",
       "Gulf Coast Buildout                                        228\n",
       "Coastal & Marine Environments                              216\n",
       "Environmental Justice                                      205\n",
       "Frac Sand Transportation                                   200\n",
       "Southeastern Michigan Sand Mining & Industrial Impacts     186\n",
       "Wildness Lost: the Pine Creek Watershed Project            184\n",
       "Cracker Plants & Ethylene                                  171\n",
       "Injection Wells                                            169\n",
       "Explosions, Fires, & Flaring                               158\n",
       "Power Plants                                               145\n",
       "West Virginia                                              137\n",
       "Forests                                                    127\n",
       "Illinois                                                   119\n",
       "Land Preservation & Management                             106\n",
       "Marshes, Swamps, & Wetlands                                102\n",
       "Water at Risk: the Lycoming Creek Watershed Project        100\n",
       "Coal Mining                                                100\n",
       "Grasslands & Prairies                                       75\n",
       "Minnesota                                                   68\n",
       "East Palestine Train Derailment                             62\n",
       "Endless Effects: the Loyalsock Watershed Project            56\n",
       "Wildlife                                                    56\n",
       "North Dakota                                                47\n",
       "California                                                  40\n",
       "Offshore Drilling                                           36\n",
       "Wind Energy                                                 35\n",
       "Netherlands                                                 11\n",
       "Maryland                                                     9\n",
       "Videos                                                       4\n",
       "Name: AlbumTitle, dtype: int64"
      ]
     },
     "execution_count": 45,
     "metadata": {},
     "output_type": "execute_result"
    }
   ],
   "source": [
    "faa.AlbumTitle.value_counts()"
   ]
  },
  {
   "cell_type": "code",
   "execution_count": 47,
   "id": "27a5f139",
   "metadata": {},
   "outputs": [
    {
     "data": {
      "text/plain": [
       "Photo citation: Ted Auch, FracTracker Alliance, 2019. Aerial support provided by LightHawk.\\n\\nEach photo label provides this information, explained below: \\n<i>Photographer_topic-sitespecific-siteowner-county-state_partneraffiliation_date(version)</i>\\n\\nPhoto labels provide information about what the image shows and where it was made. The label may describe the type of infrastructure pictured, the environment the photo captures, or the type of operations pictured. For many images, labels also provide site-specific information, including operators and facility names, if it is known by the photographer. \\n\\nAll photo labels include location information, at the state and county levels, and at township/village levels if it is helpful. Please make use of the geolocation data we provide - especially helpful if you want to see other imagery made nearby! \\n\\nWe encourage you to reach out to us about any imagery you wish to make use of, so that we can assist you in finding the best snapshots for your purposes, and so we can further explain these specific details to help you understand the imagery and fully describe it for your own purposes.\\n\\nPlease reach out to us at <b>info@fractracker.org</b> if you need more information about any of our images.\\n\\nFracTracker encourages you to use and share our imagery. Our resources can be used free of charge for noncommercial purposes, provided that the photo is cited in our format (found on each photo’s page). \\n\\nIf you wish to use our photos and/or videos for commercial purposes — including distributing them in publications for profit — please follow the steps on our <a href=\"https://www.flickr.com/people/fractracker/\">‘About’ page</a>.\\n\\nAs a nonprofit, we work hard to gather and share our insights in publicly accessible ways. If you appreciate what you see here, follow us on Twitter, Instagram, or Facebook @fractracker, and donate if you can, at <a href=\"http://www.fractracker.org/donate\" rel=\"noreferrer nofollow\">www.fractracker.org/donate</a>!                              2200\n",
       "Photo citation: Ted Auch, 2022. Photo courtesy of FracTracker Alliance.\\n\\nEach photo label provides this information, explained below: \\n<i>Photographer_topic-sitespecific-siteowner-county-state_partneraffiliation_date(version)</i>\\n\\nPhoto labels provide information about what the image shows and where it was made. The label may describe the type of infrastructure pictured, the environment the photo captures, or the type of operations pictured. For many images, labels also provide site-specific information, including operators and facility names, if it is known by the photographer. \\n\\nAll photo labels include location information, at the state and county levels, and at township/village levels if it is helpful. Please make use of the geolocation data we provide - especially helpful if you want to see other imagery made nearby! \\n\\nWe encourage you to reach out to us about any imagery you wish to make use of, so that we can assist you in finding the best snapshots for your purposes, and so we can further explain these specific details to help you understand the imagery and fully describe it for your own purposes.\\n\\nPlease reach out to us at <b>info@fractracker.org</b> if you need more information about any of our images.\\n\\nFracTracker encourages you to use and share our imagery. Our resources can be used free of charge for noncommercial purposes, provided that the photo is cited in our format (found on each photo’s page). \\n\\nIf you wish to use our photos and/or videos for commercial purposes — including distributing them in publications for profit — please follow the steps on our <a href=\"https://www.flickr.com/people/fractracker/\">‘About’ page</a>.\\n\\nAs a nonprofit, we work hard to gather and share our insights in publicly accessible ways. If you appreciate what you see here, follow us on Twitter, Instagram, or Facebook @fractracker, and donate if you can, at <a href=\"http://www.fractracker.org/donate\" rel=\"noreferrer nofollow\">www.fractracker.org/donate</a>!                                                  1849\n",
       "Photo citation: Ted Auch, FracTracker Alliance, 2021. Aerial support provided by LightHawk.\\n\\nEach photo label provides this information, explained below: \\n<i>Photographer_topic-sitespecific-siteowner-county-state_partneraffiliation_date(version)</i>\\n\\nPhoto labels provide information about what the image shows and where it was made. The label may describe the type of infrastructure pictured, the environment the photo captures, or the type of operations pictured. For many images, labels also provide site-specific information, including operators and facility names, if it is known by the photographer. \\n\\nAll photo labels include location information, at the state and county levels, and at township/village levels if it is helpful. Please make use of the geolocation data we provide - especially helpful if you want to see other imagery made nearby! \\n\\nWe encourage you to reach out to us about any imagery you wish to make use of, so that we can assist you in finding the best snapshots for your purposes, and so we can further explain these specific details to help you understand the imagery and fully describe it for your own purposes.\\n\\nPlease reach out to us at <b>info@fractracker.org</b> if you need more information about any of our images.\\n\\nFracTracker encourages you to use and share our imagery. Our resources can be used free of charge for noncommercial purposes, provided that the photo is cited in our format (found on each photo’s page). \\n\\nIf you wish to use our photos and/or videos for commercial purposes — including distributing them in publications for profit — please follow the steps on our <a href=\"https://www.flickr.com/people/fractracker/\">‘About’ page</a>.\\n\\nAs a nonprofit, we work hard to gather and share our insights in publicly accessible ways. If you appreciate what you see here, follow us on Twitter, Instagram, or Facebook @fractracker, and donate if you can, at <a href=\"http://www.fractracker.org/donate\" rel=\"noreferrer nofollow\">www.fractracker.org/donate</a>!                              1539\n",
       "Photo citation: Ted Auch, FracTracker Alliance, 2018.\\n\\nEach photo label provides this information, explained below: \\n<i>Photographer_topic-sitespecific-siteowner-county-state_partneraffiliation_date(version)</i>\\n\\nPhoto labels provide information about what the image shows and where it was made. The label may describe the type of infrastructure pictured, the environment the photo captures, or the type of operations pictured. For many images, labels also provide site-specific information, including operators and facility names, if it is known by the photographer. \\n\\nAll photo labels include location information, at the state and county levels, and at township/village levels if it is helpful. Please make use of the geolocation data we provide - especially helpful if you want to see other imagery made nearby! \\n\\nWe encourage you to reach out to us about any imagery you wish to make use of, so that we can assist you in finding the best snapshots for your purposes, and so we can further explain these specific details to help you understand the imagery and fully describe it for your own purposes.\\n\\nPlease reach out to us at <b>info@fractracker.org</b> if you need more information about any of our images.\\n\\nFracTracker encourages you to use and share our imagery. Our resources can be used free of charge for noncommercial purposes, provided that the photo is cited in our format (found on each photo’s page). \\n\\nIf you wish to use our photos and/or videos for commercial purposes — including distributing them in publications for profit — please follow the steps on our <a href=\"https://www.flickr.com/people/fractracker/\">‘About’ page</a>.\\n\\nAs a nonprofit, we work hard to gather and share our insights in publicly accessible ways. If you appreciate what you see here, follow us on Twitter, Instagram, or Facebook @fractracker, and donate if you can, at <a href=\"http://www.fractracker.org/donate\" rel=\"noreferrer nofollow\">www.fractracker.org/donate</a>!                                                                    1342\n",
       "Photo citation: Ted Auch, FracTracker Alliance, 2020.\\n\\nEach photo label provides this information, explained below: \\n<i>Photographer_topic-sitespecific-siteowner-county-state_partneraffiliation_date(version)</i>\\n\\nPhoto labels provide information about what the image shows and where it was made. The label may describe the type of infrastructure pictured, the environment the photo captures, or the type of operations pictured. For many images, labels also provide site-specific information, including operators and facility names, if it is known by the photographer. \\n\\nAll photo labels include location information, at the state and county levels, and at township/village levels if it is helpful. Please make use of the geolocation data we provide - especially helpful if you want to see other imagery made nearby! \\n\\nWe encourage you to reach out to us about any imagery you wish to make use of, so that we can assist you in finding the best snapshots for your purposes, and so we can further explain these specific details to help you understand the imagery and fully describe it for your own purposes.\\n\\nPlease reach out to us at <b>info@fractracker.org</b> if you need more information about any of our images.\\n\\nFracTracker encourages you to use and share our imagery. Our resources can be used free of charge for noncommercial purposes, provided that the photo is cited in our format (found on each photo’s page). \\n\\nIf you wish to use our photos and/or videos for commercial purposes — including distributing them in publications for profit — please follow the steps on our <a href=\"https://www.flickr.com/people/fractracker/\">‘About’ page</a>.\\n\\nAs a nonprofit, we work hard to gather and share our insights in publicly accessible ways. If you appreciate what you see here, follow us on Twitter, Instagram, or Facebook @fractracker, and donate if you can, at <a href=\"http://www.fractracker.org/donate\" rel=\"noreferrer nofollow\">www.fractracker.org/donate</a>!                                                                    1190\n",
       "                                                                                                                                                                                                                                                                                                                                                                                                                                                                                                                                                                                                                                                                                                                                                                                                                                                                                                                                                                                                                                                                                                                                                                                                                                                                                                                                                                                                                                                                                                                                                                                                                                                                                                                                                                                                                                                                                                                                                                                                                                                                                                                                 ... \n",
       "Photo citation: Brook Lenker, FracTracker Alliance, 2013.\\n\\nEach photo label provides this information, explained below: \\n<i>Photographer_topic-sitespecific-siteowner-county-state_partneraffiliation_date(version)</i>\\n\\nPhoto labels provide information about what the image shows and where it was made. The label may describe the type of infrastructure pictured, the environment the photo captures, or the type of operations pictured. For many images, labels also provide site-specific information, including operators and facility names, if it is known by the photographer. \\n\\nAll photo labels include location information, at the state and county levels, and at township/village levels if it is helpful. Please make use of the geolocation data we provide - especially helpful if you want to see other imagery made nearby! \\n\\nWe encourage you to reach out to us about any imagery you wish to make use of, so that we can assist you in finding the best snapshots for your purposes, and so we can further explain these specific details to help you understand the imagery and fully describe it for your own purposes.\\n\\nPlease reach out to us at <b>info@fractracker.org</b> if you need more information about any of our images.\\n\\nFracTracker encourages you to use and share our imagery. Our resources can be used free of charge for noncommercial purposes, provided that the photo is cited in our format (found on each photo’s page). \\n\\nIf you wish to use our photos and/or videos for commercial purposes — including distributing them in publications for profit — please follow the steps on our <a href=\"https://www.flickr.com/people/fractracker/\">‘About’ page</a>.\\n\\nAs a nonprofit, we work hard to gather and share our insights in publicly accessible ways. If you appreciate what you see here, follow us on Twitter, Instagram, or Facebook @fractracker, and donate if you can, at <a href=\"http://www.fractracker.org/donate\" rel=\"noreferrer nofollow\">www.fractracker.org/donate</a>!                                                                   2\n",
       "Photo citation: Brook Lenker, FracTracker Alliance, 2013.\\n\\nEach photo label provides this information, explained below: \\n<i>Photographer_topic-sitespecific-siteowner-county-state_partneraffiliation_date(version)</i>\\n\\nPhoto labels provide information about what the image shows and where it was made. The label may describe the type of infrastructure pictured, the environment the photo captures, or the type of operations pictured. For many images, labels also provide site-specific information, including operators and facility names, if it is known by the photographer. \\n\\nAll photo labels include location information, at the state and county levels, and at township/village levels if it is helpful. Please make use of the geolocation data we provide - especially helpful if you want to see other imagery made nearby! \\n\\nWe encourage you to reach out to us about any imagery you wish to make use of, so that we can assist you in finding the best snapshots for your purposes, and so we can further explain these specific details to help you understand the imagery and fully describe it for your own purposes.\\n\\nPlease reach out to us at <b>info@fractracker.org</b> if you need more information about any of our images.\\n\\nFracTracker encourages you to use and share our imagery. Our resources can be used free of charge for noncommercial purposes, provided that the photo is cited in our format (found on each photo’s page). \\n\\nIf you wish to use our photos and/or videos for commercial purposes — including distributing them in publications for profit — please follow the steps on our <a href=\"https://www.flickr.com/people/fractracker/\">‘About’ page</a>.\\n\\nAs a nonprofit, we work hard to gather and share our insights in publicly accessible ways. If you appreciate what you see here, follow us on Twitter, Instagram, or Facebook @fractracker, and donate if you can, at <a href=\"http://www.fractracker.org/donate\" rel=\"noreferrer nofollow\">www.fractracker.org/donate</a>!                                                                   2\n",
       "Photo citation: Mary Whipple, 2017. Photo courtesy of FracTracker Alliance.\\n\\nEach photo label provides this information, explained below: \\n<i>Photographer_topic-sitespecific-siteowner-county-state_partneraffiliation_date(version)</i>\\n\\nPhoto labels provide information about what the image shows and where it was made. The label may describe the type of infrastructure pictured, the environment the photo captures, or the type of operations pictured. For many images, labels also provide site-specific information, including operators and facility names, if it is known by the photographer. \\n\\nAll photo labels include location information, at the state and county levels, and at township/village levels if it is helpful. Please make use of the geolocation data we provide - especially helpful if you want to see other imagery made nearby! \\n\\nWe encourage you to reach out to us about any imagery you wish to make use of, so that we can assist you in finding the best snapshots for your purposes, and so we can further explain these specific details to help you understand the imagery and fully describe it for your own purposes.\\n\\nPlease reach out to us at <b>info@fractracker.org</b> if you need more information about any of our images.\\n\\nFracTracker encourages you to use and share our imagery. Our resources can be used free of charge for noncommercial purposes, provided that the photo is cited in our format (found on each photo’s page). \\n\\nIf you wish to use our photos and/or videos for commercial purposes — including distributing them in publications for profit — please follow the steps on our <a href=\"https://www.flickr.com/people/fractracker/\">‘About’ page</a>.\\n\\nAs a nonprofit, we work hard to gather and share our insights in publicly accessible ways. If you appreciate what you see here, follow us on Twitter, Instagram, or Facebook @fractracker, and donate if you can, at <a href=\"http://www.fractracker.org/donate\" rel=\"noreferrer nofollow\">www.fractracker.org/donate</a>!                                                 2\n",
       "Photo citation: Brook Lenker, FracTracker Alliance, 2018.\\n\\nEach photo label provides this information, explained below: \\n<i>Photographer_topic-sitespecific-siteowner-county-state_partneraffiliation_date(version)</i>\\n\\nPhoto labels provide information about what the image shows and where it was made. The label may describe the type of infrastructure pictured, the environment the photo captures, or the type of operations pictured. For many images, labels also provide site-specific information, including operators and facility names, if it is known by the photographer. \\n\\nAll photo labels include location information, at the state and county levels, and at township/village levels if it is helpful. Please make use of the geolocation data we provide - especially helpful if you want to see other imagery made nearby! \\n\\nWe encourage you to reach out to us about any imagery you wish to make use of, so that we can assist you in finding the best snapshots for your purposes, and so we can further explain these specific details to help you understand the imagery and fully describe it for your own purposes.\\n\\nPlease reach out to us at <b>info@fractracker.org</b> if you need more information about any of our images.\\n\\nFracTracker encourages you to use and share our imagery. Our resources can be used free of charge for noncommercial purposes, provided that the photo is cited in our format (found on each photo’s page). \\n\\nIf you wish to use our photos and/or videos for commercial purposes — including distributing them in publications for profit — please follow the steps on our <a href=\"https://www.flickr.com/people/fractracker/\">‘About’ page</a>.\\n\\nAs a nonprofit, we work hard to gather and share our insights in publicly accessible ways. If you appreciate what you see here, follow us on Twitter, Instagram, or Facebook @fractracker, and donate if you can, at <a href=\"http://www.fractracker.org/donate\" rel=\"noreferrer nofollow\">www.fractracker.org/donate</a>!                                                                   2\n",
       "Linda Daul, 2014. Photo courtesy of FracTracker Alliance\\n\\nEach photo label provides this information, explained below: \\n<i>Photographer_topic-sitespecific-siteowner-county-state_partneraffiliation_date(version)</i>\\n\\nPhoto labels provide information about what the image shows and where it was made. The label may describe the type of infrastructure pictured, the environment the photo captures, or the type of operations pictured. For many images, labels also provide site-specific information, including operators and facility names, if it is known by the photographer. \\n\\nAll photo labels include location information, at the state and county levels, and at township/village levels if it is helpful. Please make use of the geolocation data we provide - especially helpful if you want to see other imagery made nearby! \\n\\nWe encourage you to reach out to us about any imagery you wish to make use of, so that we can assist you in finding the best snapshots for your purposes, and so we can further explain these specific details to help you understand the imagery and fully describe it for your own purposes.\\n\\nPlease reach out to us at <b>info@fractracker.org</b> if you need more information about any of our images.\\n\\nFracTracker encourages you to use and share our imagery. Our resources can be used free of charge for noncommercial purposes, provided that the photo is cited in our format (found on each photo’s page). \\n\\nIf you wish to use our photos and/or videos for commercial purposes — including distributing them in publications for profit — please follow the steps on our <a href=\"https://www.flickr.com/people/fractracker/\">‘About’ page</a>.\\n\\nAs a nonprofit, we work hard to gather and share our insights in publicly accessible ways. If you appreciate what you see here, follow us on Twitter, Instagram, or Facebook @fractracker, and donate if you can, at <a href=\"http://www.fractracker.org/donate\" rel=\"noreferrer nofollow\">www.fractracker.org/donate</a>!                                                                    2\n",
       "Name: Description, Length: 70, dtype: int64"
      ]
     },
     "execution_count": 47,
     "metadata": {},
     "output_type": "execute_result"
    }
   ],
   "source": [
    "faa.Description.value_counts()"
   ]
  },
  {
   "cell_type": "code",
   "execution_count": 48,
   "id": "7bde94c3",
   "metadata": {},
   "outputs": [
    {
     "data": {
      "text/plain": [
       "TAuch_Transportation-EastPalestine_Derailment_Site-NorfolkSouthern-ColumbianaCounty-OH_February2023    208\n",
       "TAuch_Infrastructure-Oil_Dock-Valero_Avery-SanPetricioCounty-TX_December2022                           180\n",
       "TAuch_Infrastructure-LNG_ExportTerminal-Enbridge-NuecesCounty-TX_December2022                          132\n",
       "TAuch_Infrastructure-FracSand_Mine-SargentSand-MI_MasonCounty_August2021                               130\n",
       "TAuch_Infrastructure-Refinery_HartmanPark-Valero-HarrisCounty-TX_December2022                           96\n",
       "                                                                                                      ... \n",
       "TAuch_Infrastructure-StClairRiver-SarniaHarbor-PortHuron-MI_Lighthawk_Sept2021                           1\n",
       "TAuch_Infrastructure-tar-sands-facility-BP-WhitingOilRefinery-Whiting-CookCounty-IN_July2015(1)          1\n",
       "TAuch_Infrastructure-tar-sands-facility-BP-WhitingOilRefinery-Whiting-CookCounty-IN_July2015(2)          1\n",
       "TAuch_Infrastructure-tar-sands-facility-BP-WhitingOilRefinery-Whiting-CookCounty-IN_July2015(3)          1\n",
       "TAuch_Infrastructure_Ship-SarniaHarbor-StClairCounty-MI-Lighthawk_Sept2021                               1\n",
       "Name: Title, Length: 2217, dtype: int64"
      ]
     },
     "execution_count": 48,
     "metadata": {},
     "output_type": "execute_result"
    }
   ],
   "source": [
    "faa.Title.value_counts()"
   ]
  },
  {
   "cell_type": "code",
   "execution_count": null,
   "id": "bd1d401b",
   "metadata": {},
   "outputs": [],
   "source": []
  }
 ],
 "metadata": {
  "kernelspec": {
   "display_name": "Python 3 (ipykernel)",
   "language": "python",
   "name": "python3"
  },
  "language_info": {
   "codemirror_mode": {
    "name": "ipython",
    "version": 3
   },
   "file_extension": ".py",
   "mimetype": "text/x-python",
   "name": "python",
   "nbconvert_exporter": "python",
   "pygments_lexer": "ipython3",
   "version": "3.9.12"
  }
 },
 "nbformat": 4,
 "nbformat_minor": 5
}
